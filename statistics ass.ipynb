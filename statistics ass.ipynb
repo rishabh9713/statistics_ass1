{
 "cells": [
  {
   "cell_type": "code",
   "execution_count": 1,
   "id": "2a474578-cfb8-4915-8b79-4a5c1dd7198f",
   "metadata": {},
   "outputs": [],
   "source": [
    "\"\"\"Q1. What is Statistics?\n",
    "Ans-:statistics is a branch of mathematics and it is science of collecting ,organizing and analyzing the data,it is two types-\n",
    "1.descriptive statistics-it is summarizing and organizing the data it like to measure tendency and dispersion diffferent types of distribution data\n",
    "2.inferential statistics-it is uses the data from a sample to make inferences or prediction the population\"\"\""
   ]
  },
  {
   "cell_type": "code",
   "execution_count": 5,
   "id": "f2ecd627-a4f3-4d77-be38-e735d1e0b72b",
   "metadata": {},
   "outputs": [],
   "source": [
    "\"\"\"Q3.  What are the different types of data and how do they differ from each other? Provide an example of each type of data.\n",
    "Ans-There are two types of data -\n",
    "1.qualitative data 2.quantitative data\n",
    "1.qualitative data-it is also known as categorical data eg-categorical value like- string: there are also two types\n",
    "a.nominal-havin no order eg-if there are two gender male and female but if we are not rank and compromise which is better \n",
    "b.ordinal-having order eg-if  there are three things good better best so we have ranked it and ordered it which is better \n",
    "2.quantitative data-it is known as numerical data:they are also two types:\n",
    "a.discrete-we are choose only whole number like bank account number\n",
    "b.continous-we are choose any size like-2.34,456,3.5 eg-temperature,height,distance\"\"\""
   ]
  },
  {
   "cell_type": "code",
   "execution_count": null,
   "id": "d3e7dac8-7430-407e-b8b4-2bfde4768664",
   "metadata": {},
   "outputs": [],
   "source": [
    "\"\"\"Q4. Categorise the following datasets with respect to quantitative and qualitative data types:\n",
    "\n",
    "(i)\tGrading in exam: A+, A, B+, B, C+, C, D, E\n",
    "\n",
    "(ii)\tColour of mangoes: yellow, green, orange, red\n",
    "\n",
    "(iii)\tHeight data of a class: [178.9, 179, 179.5, 176, 177.2, 178.3, 175.8,...]\n",
    "\n",
    "(iv)\tNumber of mangoes exported by a farm: [500, 600, 478, 672, …]\n",
    "\n",
    "Ans-grading in exam and colour of mangoes are qualitative data ad height data of class is quantitative data\"\"\"\n"
   ]
  },
  {
   "cell_type": "code",
   "execution_count": null,
   "id": "3b62cc03-84b3-4fd0-901c-6cf92ba41a23",
   "metadata": {},
   "outputs": [],
   "source": [
    "\"\"\"Q5. Explain the concept of levels of measurement and give an example of a variable for each level.\n",
    "Ans-Measurment of central Tendency (mean,median ,mode)\n",
    "measurment of dispersion(variance,standard daviation)\n",
    "measurment of distribution data(histogram)"
   ]
  },
  {
   "cell_type": "code",
   "execution_count": null,
   "id": "b71d3693-374c-4aae-aa8e-a0f0440dbdb9",
   "metadata": {},
   "outputs": [],
   "source": [
    "\"\"\"Q2. Define the different types of statistics and give an example of when each type might be used.\n",
    "Ans-statistics are two types-:\n",
    "1.descriptive statistics-:it consist of organizing and summarizing the data\n",
    "example:the student of a classes th teacher will find the performance if a seoarate separate student  then the teacher will look their report card of the student\n",
    "and the basis of their report card they have check the performance \n",
    "2.inferential statistics:it consist of data you form a conclusion\n",
    "example:in the election result before the media will serve and the basis os serve they form the axit poll of the election the serve like this inferential statistics the population \n",
    "area is the area the election rises and the sample area are the small area luke is a subset of population area "
   ]
  },
  {
   "cell_type": "code",
   "execution_count": null,
   "id": "8cd25991-ca7e-4bd9-b562-6f5ba963d63f",
   "metadata": {},
   "outputs": [],
   "source": [
    "\"\"\"Q6. Why is it important to understand the level of measurement when analyzing data? Provide an\n",
    "example to illustrate your answer.\n",
    "Ans-Understanding the level of measurement in data analysis is crucial because it determines the types of statistical analyses that can be appropriately applied to the data.\n",
    "There are four levels of measurement: nominal, ordinal, interval, and ratio. Each level has specific properties that dictate the kind of mathematical operations and statistical analyses\n",
    "that can be performed on the data.Here's why it's important:"
   ]
  },
  {
   "cell_type": "code",
   "execution_count": null,
   "id": "4c9d1607-6547-417e-9c28-5d76fe857819",
   "metadata": {},
   "outputs": [],
   "source": [
    "\"\"\"Q7. How nominal data type is different from ordinal data type\n",
    "Ans-Nominal and ordinal data are both categorical data types, but they differ in terms of the information they provide and the level of measurement they represent.\n",
    "nominal dataset- Nominal data consists of categories or labels without any specific order or ranking among them. ex-Colors (red, blue, green)\n",
    "ordinal dataset-Ordinal data also consists of categories, but these categories have a specific order or ranking. The order represents the relative position or preference among the categories"
   ]
  },
  {
   "cell_type": "code",
   "execution_count": null,
   "id": "82fc58ed-0314-49ed-951d-c8bb6d451071",
   "metadata": {},
   "outputs": [],
   "source": [
    "\"\"\"Q8. Which type of plot can be used to display data in terms of range?\n",
    "Ans-A box plot, also known as a box-and-whisker plot, is commonly used to display data in terms of range. A box plot provides a visual summary of the distribution of a dataset"
   ]
  },
  {
   "cell_type": "code",
   "execution_count": null,
   "id": "9466b554-8a8a-4e0e-9d87-bacc9dff9844",
   "metadata": {},
   "outputs": [],
   "source": [
    "\"\"\"Q9. Describe the difference between descriptive and inferential statistics. Give an example of each type of statistics and explain how they are used.\n",
    "Ans-**Descriptive Statistics:**\n",
    "\n",
    "Descriptive statistics involve the use of numerical and graphical methods to summarize and present data in a meaningful way.\n",
    "\n",
    "*Example:* Let's consider a dataset containing the ages of students in a classroom: {18, 19, 20, 21, 22}. Descriptive statistics for this dataset would include measures\n",
    "like the mean (average), median (middle value), and standard deviation (a measure of the spread). Calculating the mean age, which in this case is 20, provides a central value that\n",
    "represents the typical age of the students in the classroom.\n",
    "\n",
    "**Inferential Statistics:**\n",
    "\n",
    "Inferential statistics involve making inferences and predictions about a population based on a sample of data taken from that population. It uses probability theory to make educated guesses about the population parameters. Inferential statistics allow researchers to draw conclusions about a larger group based on the observations from a subset of that group.\n",
    "\n",
    "*Example:* Suppose a researcher wants to know the average age of all students in a city and doesn't have access to all the students. They take a random sample of 100 students, calculate the mean age from this sample, and use inferential statistics to make an educated guess (an inference) about the average age of all students in the city.\n",
    "\n",
    "**Difference:**\n",
    "\n",
    "1. **Scope:** Descriptive statistics describe and summarize data, providing insights into its main features. Inferential statistics, on the other hand, make predictions or inferences about a larger population based on a sample.\n",
    "\n",
    "2. **Purpose:** Descriptive statistics are used to present and organize data in a meaningful way, making it easier to understand. Inferential statistics are used to make predictions, test hypotheses, and draw conclusions about populations based on samples.\n",
    "\n",
    "3. **Example:** Descriptive statistics include measures like mean, median, and standard deviation. Inferential statistics include techniques like hypothesis testing, confidence intervals, and regression analysis.\n",
    "\n"
   ]
  },
  {
   "cell_type": "code",
   "execution_count": null,
   "id": "8eb145e0-b6a1-4000-a942-92807308ba63",
   "metadata": {},
   "outputs": [],
   "source": [
    "\"\"\"Q10. What are some common measures of central tendency and variability used in statistics? Explain how each measure can be used to describe a dataset.\n",
    "Ans-measure of central Tendency-(mean median mode)\n",
    "measure of variability-(range,variance,standard deviation,IQR(interquartile range))These measures collectively provide insights into the center, spread, and shape of a dataset, \n",
    "aiding in a comprehensive understanding of the data distribution. Choosing the appropriate measure depends on the nature of the data and the specific characteristics being analyzed."
   ]
  }
 ],
 "metadata": {
  "kernelspec": {
   "display_name": "Python 3 (ipykernel)",
   "language": "python",
   "name": "python3"
  },
  "language_info": {
   "codemirror_mode": {
    "name": "ipython",
    "version": 3
   },
   "file_extension": ".py",
   "mimetype": "text/x-python",
   "name": "python",
   "nbconvert_exporter": "python",
   "pygments_lexer": "ipython3",
   "version": "3.10.8"
  }
 },
 "nbformat": 4,
 "nbformat_minor": 5
}
